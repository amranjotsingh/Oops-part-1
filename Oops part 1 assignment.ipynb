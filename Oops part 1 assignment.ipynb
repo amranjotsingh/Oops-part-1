{
 "cells": [
  {
   "cell_type": "code",
   "execution_count": 1,
   "id": "a5cebd58-8aa1-4d8b-a907-83b5d1ec164b",
   "metadata": {},
   "outputs": [],
   "source": [
    "#  Q - 1 Explain Class and Object with respect to Object-Oriented Programming. Give a suitable example."
   ]
  },
  {
   "cell_type": "code",
   "execution_count": 2,
   "id": "469defee-00e2-472d-a845-97eecd033036",
   "metadata": {},
   "outputs": [],
   "source": [
    "# A class is a blueprint that defines the variables and the methods common to all objects \n",
    "# of a certain kind . it helps us to bind data and methods together, making the code resuable."
   ]
  },
  {
   "cell_type": "code",
   "execution_count": 3,
   "id": "b90b825c-bc37-469c-a313-fbeaf8ef25a9",
   "metadata": {},
   "outputs": [],
   "source": [
    "# for example ,a mobile phone has attributes like a brand name, RAM and functions like texting\n",
    "# and Calling. Thus the mobile phone is a class of various phones."
   ]
  },
  {
   "cell_type": "code",
   "execution_count": 5,
   "id": "148213ca-e134-4f61-9236-2600036ddcbe",
   "metadata": {},
   "outputs": [],
   "source": [
    "# from the above example Samsung Galaxy is an object with the brand name Samsung, 2GB ram as properties\n",
    "# and calling and texting as behaviors."
   ]
  },
  {
   "cell_type": "code",
   "execution_count": 6,
   "id": "8de3f2dc-bbd5-4829-8308-7f554172e24e",
   "metadata": {},
   "outputs": [],
   "source": [
    "#  Q-2 Name the four pillars of OOPs."
   ]
  },
  {
   "cell_type": "code",
   "execution_count": null,
   "id": "86f18e46-9c12-43b5-88cb-884f28f94f04",
   "metadata": {},
   "outputs": [],
   "source": [
    "# Python is an Object-Oriented Programming language. Everything in Python is an object. \n",
    "#  Like other Object-Oriented languages, \n",
    " # when creating objects using classes, there are four(4) basic principles for writing clean and concise code. \n",
    "# These principles are called the four pillars of object-oriented programming (OOP). \n",
    "# These four pillars are Inheritance, Polymorphism, Encapsulation and Abstraction."
   ]
  },
  {
   "cell_type": "code",
   "execution_count": 7,
   "id": "1e28660c-94f1-454d-b973-fe907ea1d15e",
   "metadata": {},
   "outputs": [],
   "source": [
    "#  Q-3 Explain why the __init__() function is used. Give a suitable example."
   ]
  },
  {
   "cell_type": "code",
   "execution_count": 8,
   "id": "8916b2b2-7b68-49bb-ad65-638d69f8b178",
   "metadata": {},
   "outputs": [],
   "source": [
    "# __init__ its' called initalise. when we need to pass data into class , in that situation\n",
    "#  we use __init__ for passing the data into our class for example."
   ]
  },
  {
   "cell_type": "code",
   "execution_count": 26,
   "id": "c941f6c2-884c-42ec-87a7-c4ab8507e66d",
   "metadata": {},
   "outputs": [],
   "source": [
    "class office_employees():\n",
    "    \n",
    "    def __init__(self, Name_of_employee, Phone_no, Employee_id, Designation):\n",
    "        self.Name_of_employee = Name_of_employee\n",
    "        self.Phone_no=Phone_no\n",
    "        self.Employee_id= Employee_id\n",
    "        self.Designation = Designation\n",
    "    \n",
    "    def return_e(self):\n",
    "        return self.Name_of_employee, self.Phone_no, self.Employee_id, self.Designation"
   ]
  },
  {
   "cell_type": "code",
   "execution_count": 28,
   "id": "5e2c9a06-8da8-494c-8e6d-645c1ed9ea89",
   "metadata": {},
   "outputs": [],
   "source": [
    "Kuldeep = office_employees(\"Kuldeep Singh\", 9779254612,78,\"Financial Analyst\")"
   ]
  },
  {
   "cell_type": "code",
   "execution_count": 29,
   "id": "292a4877-572d-474d-aade-437a4cef75fc",
   "metadata": {},
   "outputs": [
    {
     "data": {
      "text/plain": [
       "('Kuldeep Singh', 9779254612, 78, 'Financial Analyst')"
      ]
     },
     "execution_count": 29,
     "metadata": {},
     "output_type": "execute_result"
    }
   ],
   "source": [
    "Kuldeep.return_e()"
   ]
  },
  {
   "cell_type": "code",
   "execution_count": 30,
   "id": "8e2d815b-6533-419b-8f11-db752e8eb114",
   "metadata": {},
   "outputs": [],
   "source": [
    "# Why self is used in OOPs?"
   ]
  },
  {
   "cell_type": "code",
   "execution_count": 31,
   "id": "d85022ab-9836-43d1-b1a3-cebcb27f4286",
   "metadata": {},
   "outputs": [],
   "source": [
    "# The self keyword is used to represent an instance (object) of the given class.\n",
    "# If there was no self argument, the same class couldn't hold the information for objects.\n",
    "# However, since the class is just a blueprint, self allows access to the attributes and\n",
    "# methods of each object in python. This allows each object to have its own attributes and methods. "
   ]
  },
  {
   "cell_type": "code",
   "execution_count": 32,
   "id": "32001aac-7991-48e5-912d-1062dce80a8c",
   "metadata": {},
   "outputs": [],
   "source": [
    "# What is inheritance? Give an example for each type of inheritance."
   ]
  },
  {
   "cell_type": "code",
   "execution_count": null,
   "id": "8f37f35f-b577-4bf5-94ab-a4210ed481b0",
   "metadata": {},
   "outputs": [],
   "source": [
    "# Inheritance is defined as the mechanism of inheriting the properties of the base class to the child class. \n",
    "# Here we a going to see the types of inheritance in Python."
   ]
  }
 ],
 "metadata": {
  "kernelspec": {
   "display_name": "Python 3 (ipykernel)",
   "language": "python",
   "name": "python3"
  },
  "language_info": {
   "codemirror_mode": {
    "name": "ipython",
    "version": 3
   },
   "file_extension": ".py",
   "mimetype": "text/x-python",
   "name": "python",
   "nbconvert_exporter": "python",
   "pygments_lexer": "ipython3",
   "version": "3.10.8"
  }
 },
 "nbformat": 4,
 "nbformat_minor": 5
}
